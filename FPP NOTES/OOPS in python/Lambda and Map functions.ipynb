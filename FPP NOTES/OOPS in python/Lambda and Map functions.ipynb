{
 "cells": [
  {
   "cell_type": "markdown",
   "metadata": {},
   "source": [
    "Important question for exams"
   ]
  },
  {
   "cell_type": "code",
   "execution_count": null,
   "metadata": {},
   "outputs": [],
   "source": [
    "#add two numbers using using lambda function\n",
    "x= lambda a,b: a+b\n",
    "print(x(2,3))"
   ]
  },
  {
   "cell_type": "code",
   "execution_count": null,
   "metadata": {},
   "outputs": [],
   "source": [
    "#Multiply four number using lambda function\n",
    "x= lambda a,b,c,d:a*b*c*d\n",
    "print(x(1,2,3,4))"
   ]
  },
  {
   "cell_type": "code",
   "execution_count": null,
   "metadata": {},
   "outputs": [],
   "source": [
    "#Sum of two list using map function\n",
    "def sum(a,b):\n",
    "    return a+b\n",
    "\n",
    "a=[1,2,3,4]\n",
    "b=[12,31,41,3]\n",
    "\n",
    "c=map(sum,a,b)\n",
    "print(list(c))"
   ]
  },
  {
   "cell_type": "code",
   "execution_count": null,
   "metadata": {},
   "outputs": [],
   "source": [
    "#sum of two list using map and lambda function\n",
    "a=[1,2,3,4]\n",
    "b=[1,2,3,4]\n",
    "x=map(lambda a,b:a+b,a,b)\n",
    "print(list(x))"
   ]
  },
  {
   "cell_type": "markdown",
   "metadata": {},
   "source": [
    "DICTIONARY CODE"
   ]
  },
  {
   "cell_type": "code",
   "execution_count": 4,
   "metadata": {},
   "outputs": [
    {
     "name": "stdout",
     "output_type": "stream",
     "text": [
      "{'a': 3, 'i': 1}\n"
     ]
    }
   ],
   "source": [
    "#CODE FOR COUNT VOWELS IN STRING\n",
    "a=\"adityadas\"\n",
    "b=[\"a\",\"e\",\"i\",\"o\",\"u\"]\n",
    "c={}\n",
    "\n",
    "for i in a:\n",
    "    if i in b:\n",
    "        if i in c:\n",
    "            c[i]+=1\n",
    "        else:\n",
    "            c[i]=1\n",
    "print(c)\n"
   ]
  },
  {
   "cell_type": "code",
   "execution_count": 5,
   "metadata": {},
   "outputs": [
    {
     "name": "stdout",
     "output_type": "stream",
     "text": [
      "{'a': 3, 'd': 2, 'i': 1, 't': 1, 'y': 1, 's': 1}\n"
     ]
    }
   ],
   "source": [
    "#count for letter occurence without using len\n",
    "a=\"adityadas\"\n",
    "c={}\n",
    "for i in a:\n",
    "    if i in c:\n",
    "        c[i]+=1\n",
    "    else:\n",
    "        c[i]=1\n",
    "print(c)"
   ]
  }
 ],
 "metadata": {
  "kernelspec": {
   "display_name": "Python 3",
   "language": "python",
   "name": "python3"
  },
  "language_info": {
   "codemirror_mode": {
    "name": "ipython",
    "version": 3
   },
   "file_extension": ".py",
   "mimetype": "text/x-python",
   "name": "python",
   "nbconvert_exporter": "python",
   "pygments_lexer": "ipython3",
   "version": "3.12.1"
  }
 },
 "nbformat": 4,
 "nbformat_minor": 2
}
