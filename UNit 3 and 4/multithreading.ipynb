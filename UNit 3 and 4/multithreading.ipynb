{
 "cells": [
  {
   "cell_type": "code",
   "execution_count": 2,
   "metadata": {},
   "outputs": [
    {
     "name": "stdout",
     "output_type": "stream",
     "text": [
      "I am in thread1. Current Thread in Execution is Thread hi\n",
      "I am in thread2. Current Thread in Execution is Thread by\n"
     ]
    },
    {
     "name": "stderr",
     "output_type": "stream",
     "text": [
      "C:\\Users\\ADITYA DAS\\AppData\\Local\\Temp\\ipykernel_14768\\1854157029.py:13: DeprecationWarning: setName() is deprecated, set the name attribute instead\n",
      "  t1.setName(\"Thread hi\")\n",
      "C:\\Users\\ADITYA DAS\\AppData\\Local\\Temp\\ipykernel_14768\\1854157029.py:14: DeprecationWarning: setName() is deprecated, set the name attribute instead\n",
      "  t2.setName(\"Thread by\")\n",
      "C:\\Users\\ADITYA DAS\\AppData\\Local\\Temp\\ipykernel_14768\\1854157029.py:4: DeprecationWarning: getName() is deprecated, get the name attribute instead\n",
      "  print(\"I am in thread1.\", \"Current Thread in Execution is\", current_thread().getName())\n"
     ]
    }
   ],
   "source": [
    "from threading import Thread, current_thread\n",
    "\n",
    "def MyThread1():\n",
    "    print(\"I am in thread1.\", \"Current Thread in Execution is\", current_thread().getName())\n",
    "\n",
    "def MyThread2():\n",
    "    print(\"I am in thread2.\", \"Current Thread in Execution is\", current_thread().name)\n",
    "\n",
    "t1 = Thread(target=MyThread1, args=[])\n",
    "t2 = Thread(target=MyThread2, args=[])\n",
    "\n",
    "# Set names for the threads using setName()\n",
    "t1.setName(\"Thread hi\")\n",
    "t2.setName(\"Thread by\")\n",
    "\n",
    "t1.start()\n",
    "t2.start()\n"
   ]
  },
  {
   "cell_type": "code",
   "execution_count": null,
   "metadata": {},
   "outputs": [],
   "source": [
    "import threading\n",
    "\n",
    "print(\"Current Executing Thread:\", threading.current_thread().getName())\n"
   ]
  },
  {
   "cell_type": "code",
   "execution_count": 3,
   "metadata": {},
   "outputs": [
    {
     "name": "stdout",
     "output_type": "stream",
     "text": [
      "sleeping for 4 seconds\n",
      "sleeping for 2 seconds\n",
      "sleeping for 1 seconds\n"
     ]
    }
   ],
   "source": [
    "import threading \n",
    "import time\n",
    "\n",
    "def func(seconds):\n",
    "    print(f\"sleeping for {seconds} seconds\")\n",
    "    time.sleep(seconds)\n",
    "\n",
    "func(4)\n",
    "func(2)\n",
    "func(1)\n"
   ]
  },
  {
   "cell_type": "code",
   "execution_count": null,
   "metadata": {},
   "outputs": [],
   "source": [
    "import threading \n",
    "import time\n",
    "\n",
    "def func(seconds):\n",
    "    print(f\"Sleeping for {seconds} seconds\")\n",
    "    time.sleep(seconds)\n",
    "\n",
    "t1 = threading.Thread(target=func, args=[4])\n",
    "t2 = threading.Thread(target=func, args=[2])\n",
    "t3 = threading.Thread(target=func, args=[1])\n",
    "\n",
    "start_time = time.perf_counter()  # Start timing before starting threads\n",
    "\n",
    "t1.start()\n",
    "t2.start()\n",
    "t3.start()\n",
    "\n",
    "\n",
    "\n",
    "t1.join()\n",
    "t2.join()\n",
    "t3.join()\n",
    "\n",
    "\n",
    "\n",
    "\n",
    "\n",
    "\n",
    "end_time = time.perf_counter()  # End timing after all threads finish\n",
    "\n",
    "print(f\"All threads finished in {end_time - start_time} seconds\")\n",
    "\n",
    "\n"
   ]
  },
  {
   "cell_type": "code",
   "execution_count": 11,
   "metadata": {},
   "outputs": [
    {
     "name": "stdout",
     "output_type": "stream",
     "text": [
      "Child ThreadMain Thread\n",
      "Main Thread\n",
      "Main Thread\n",
      "Main Thread\n",
      "Main Thread\n",
      "Main Thread\n",
      "Main Thread\n",
      "Main Thread\n",
      "Main Thread\n",
      "Main Thread\n",
      "\n",
      "Child Thread\n",
      "Child Thread\n",
      "Child Thread\n",
      "Child Thread\n",
      "Child Thread\n",
      "Child Thread\n",
      "Child Thread\n",
      "Child Thread\n",
      "Child Thread\n"
     ]
    }
   ],
   "source": [
    "from threading import * \n",
    "def display(): \n",
    "   for i in range(1,11): \n",
    "     print(\"Child Thread\") \n",
    "t=Thread(target=display) #creating Thread object \n",
    "t.start()\n",
    " #starting of Thread \n",
    "for i in range(1,11): \n",
    " print(\"Main Thread\")"
   ]
  },
  {
   "cell_type": "code",
   "execution_count": null,
   "metadata": {},
   "outputs": [],
   "source": [
    "from threading import * \n",
    "class MyThread(Thread): \n",
    " \n",
    " def run(self): \n",
    "  for i in range(10): \n",
    "   print(\"Child Thread-1\") \n",
    "t=MyThread() \n",
    "t.start() \n",
    "for i in range(10): \n",
    " print(\"Main Thread-1\") "
   ]
  },
  {
   "cell_type": "code",
   "execution_count": null,
   "metadata": {},
   "outputs": [],
   "source": [
    "from threading import * \n",
    "class test: \n",
    " def display(self): \n",
    "  for i in range(10): \n",
    "   print(\"Child Thread-2\") \n",
    "obj=test() \n",
    "t=Thread(target=obj.display) \n",
    "t.start() \n",
    "for i in range(10): \n",
    "  print(\"Main Thread-2\")"
   ]
  },
  {
   "cell_type": "code",
   "execution_count": null,
   "metadata": {},
   "outputs": [],
   "source": [
    "import _thread\n",
    "def MyThread1():\n",
    "    print(\"This is thread1\")\n",
    "def MyThread2():\n",
    "    print(\"This is thread2\")\n",
    " \n",
    "_thread.start_new_thread(MyThread1, ())\n",
    "_thread.start_new_thread(MyThread2, ())"
   ]
  },
  {
   "cell_type": "code",
   "execution_count": null,
   "metadata": {},
   "outputs": [],
   "source": [
    "#from threading import Thread\n",
    "import threading\n",
    "\n",
    "def MyThread1():\n",
    "    print(\"This is thread1\")\n",
    "\n",
    "def MyThread2():\n",
    "    print(\"This is thread2\")\n",
    "\n",
    "t1 = threading.Thread(target=MyThread1)\n",
    "t2 = threading.Thread(target=MyThread2)\n",
    "t1.start()\n",
    "t2.start()\n"
   ]
  },
  {
   "cell_type": "code",
   "execution_count": null,
   "metadata": {},
   "outputs": [],
   "source": [
    "from threading import * \n",
    "def test(): \n",
    " print(\"Child Thread\") \n",
    "t=Thread(target=test) \n",
    "\n",
    "t.start() \n",
    "\n",
    "print(\"Child Thread Identification Number:\",t.ident)"
   ]
  },
  {
   "cell_type": "code",
   "execution_count": null,
   "metadata": {},
   "outputs": [],
   "source": [
    "import threading\n",
    "import time\n",
    "\n",
    "def worker():\n",
    "    print(\"Worker thread started\")\n",
    "    time.sleep(2)\n",
    "    print(\"Worker thread finished\")\n",
    "\n",
    "# Create multiple threads\n",
    "threads = []\n",
    "for i in range(5):\n",
    "    thread = threading.Thread(target=worker)\n",
    "    threads.append(thread)\n",
    "    thread.start()\n",
    "\n",
    "# Wait for all threads to complete\n",
    "for thread in threads:\n",
    "    thread.join()\n",
    "\n",
    "# Get the number of active threads\n",
    "active_threads = threading.active_count()\n",
    "print(\"Number of active threads:\", active_threads)\n"
   ]
  }
 ],
 "metadata": {
  "kernelspec": {
   "display_name": "Python 3",
   "language": "python",
   "name": "python3"
  },
  "language_info": {
   "codemirror_mode": {
    "name": "ipython",
    "version": 3
   },
   "file_extension": ".py",
   "mimetype": "text/x-python",
   "name": "python",
   "nbconvert_exporter": "python",
   "pygments_lexer": "ipython3",
   "version": "3.12.1"
  }
 },
 "nbformat": 4,
 "nbformat_minor": 2
}
