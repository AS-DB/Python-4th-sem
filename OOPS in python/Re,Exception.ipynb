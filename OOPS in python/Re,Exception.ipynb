{
 "cells": [
  {
   "cell_type": "code",
   "execution_count": null,
   "metadata": {},
   "outputs": [],
   "source": [
    "import re\n",
    "a=\"ad\"\n",
    "b=\"adadadbjbjb\"\n",
    "c=\"dasa\"\n",
    "#search\n",
    "v=re.search(a,b)\n",
    "print(v)\n",
    "#match\n",
    "b=re.match(a,b)\n",
    "print(b)\n",
    "#findall\n",
    "i=re.findall(a,b)\n",
    "print(i)"
   ]
  },
  {
   "cell_type": "code",
   "execution_count": null,
   "metadata": {},
   "outputs": [],
   "source": [
    "a=1\n",
    "b=0\n",
    "try:\n",
    "    c=a/b\n",
    "    print(c)\n",
    "except Exception as e:\n",
    "    print(e)\n",
    "else:\n",
    "    print(\"Can't possible\")"
   ]
  },
  {
   "cell_type": "code",
   "execution_count": null,
   "metadata": {},
   "outputs": [],
   "source": [
    "try:\n",
    "    f1=open(\"file.txt\",\"r\")\n",
    "    f1.close()\n",
    "except Exception as e:\n",
    "    print(e)"
   ]
  },
  {
   "cell_type": "code",
   "execution_count": null,
   "metadata": {},
   "outputs": [],
   "source": [
    "a=12\n",
    "try:\n",
    "    if a<18:\n",
    "        raise ValueError\n",
    "    else:\n",
    "        print(\"vote\")\n",
    "\n",
    "except ValueError:\n",
    "    print(\"Not eligible\")\n",
    "\n",
    "b=19\n",
    "try:\n",
    "    if b<18:\n",
    "        raise ValueError\n",
    "    else:\n",
    "        print(\"vote\")\n",
    "        \n",
    "except ValueError:\n",
    "    print(\"Not eligible\")"
   ]
  },
  {
   "cell_type": "code",
   "execution_count": null,
   "metadata": {},
   "outputs": [],
   "source": [
    "#user defined exception\n",
    "class adi(Exception):\n",
    "    pass\n",
    "class fa(Exception):\n",
    "    pass\n",
    "\n",
    "try:\n",
    "    a=1;b=0\n",
    "    if b<=0:\n",
    "        raise fa\n",
    "    else:\n",
    "        c=a/b\n",
    "except fa:\n",
    "    print(\"NOt possible\")\n"
   ]
  },
  {
   "cell_type": "code",
   "execution_count": null,
   "metadata": {},
   "outputs": [],
   "source": [
    "from threading import *\n",
    "import time\n",
    "def dis():\n",
    "    for i in range(3):\n",
    "        time.sleep(2)\n",
    "        print(\"Hello\")\n",
    "\n",
    "t1=Thread(target=dis)\n",
    "t1.start()"
   ]
  },
  {
   "cell_type": "code",
   "execution_count": null,
   "metadata": {},
   "outputs": [],
   "source": [
    "from threading import *\n",
    "class adi:\n",
    "    def display(self):\n",
    "        for i in range(3):\n",
    "            print(\"child thread\",current_thread().name)\n",
    "r=adi()\n",
    "t1=Thread(target=r.display)\n",
    "t1.start()"
   ]
  },
  {
   "cell_type": "code",
   "execution_count": null,
   "metadata": {},
   "outputs": [],
   "source": [
    "from threading import *\n",
    "class adi(Thread):\n",
    "    def run(self):\n",
    "        for i in range(3):\n",
    "            print(\"child:\")\n",
    "s1=adi()\n",
    "s1.start()        "
   ]
  },
  {
   "cell_type": "code",
   "execution_count": 7,
   "metadata": {},
   "outputs": [
    {
     "name": "stdout",
     "output_type": "stream",
     "text": [
      "hello adi\n",
      "your age is 19\n",
      "hello adi\n",
      "your age is 19\n",
      "hello adi\n",
      "your age is 19\n",
      "hello ad\n",
      "your age is 19\n",
      "hello ad\n",
      "your age is 19\n",
      "hello ad\n",
      "your age is 19\n"
     ]
    }
   ],
   "source": [
    "import threading\n",
    "l=threading.Lock()\n",
    "def wish(a,b):\n",
    "    \n",
    "    for i in range(3):\n",
    "        l.acquire()\n",
    "        print(\"hello\",a)\n",
    "        time.sleep(2)\n",
    "        print(\"your age is\",b)\n",
    "        l.release()\n",
    "\n",
    "t1=threading.Thread(target=wish,args=(\"adi\",19))\n",
    "t2=threading.Thread(target=wish,args=(\"ad\",19))\n",
    "t1.start()\n",
    "t2.start()\n",
    "\n",
    "t1.join()\n",
    "t2.join()"
   ]
  },
  {
   "cell_type": "code",
   "execution_count": null,
   "metadata": {},
   "outputs": [],
   "source": [
    "from threading import *\n",
    "l=RLock()\n",
    "def fact(a):\n",
    "    l.acquire()\n",
    "    if a==0 or a==1:\n",
    "        result= 1\n",
    "    else:\n",
    "        result= a*fact(a-1)\n",
    "    l.release()\n",
    "    return result\n",
    "def display(n):\n",
    "    print(\"factorial:\",fact(n))\n",
    "\n",
    "t1=Thread(target=display,args=(3,))\n",
    "t1.start()"
   ]
  },
  {
   "cell_type": "code",
   "execution_count": null,
   "metadata": {},
   "outputs": [],
   "source": [
    "def fibo(n):\n",
    "    g=[0,1]\n",
    "    if n==0 or n==1:\n",
    "        print(g[0])\n",
    "    else:\n",
    "        for i in range(2,n):\n",
    "            t=g[-1]+g[-2]\n",
    "            g.append(t)\n",
    "        print(*g)\n",
    "fibo(3)\n",
    "fibo(2)\n",
    "fibo(4)"
   ]
  }
 ],
 "metadata": {
  "kernelspec": {
   "display_name": "Python 3",
   "language": "python",
   "name": "python3"
  },
  "language_info": {
   "codemirror_mode": {
    "name": "ipython",
    "version": 3
   },
   "file_extension": ".py",
   "mimetype": "text/x-python",
   "name": "python",
   "nbconvert_exporter": "python",
   "pygments_lexer": "ipython3",
   "version": "3.12.1"
  }
 },
 "nbformat": 4,
 "nbformat_minor": 2
}
