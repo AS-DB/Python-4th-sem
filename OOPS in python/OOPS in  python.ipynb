{
 "cells": [
  {
   "cell_type": "code",
   "execution_count": null,
   "metadata": {},
   "outputs": [],
   "source": [
    "#class\n",
    "\n",
    "class college:\n",
    "    name=\"aditya\"\n",
    "\n",
    "s1=college() #object created\n",
    "print(s1.name)"
   ]
  },
  {
   "cell_type": "code",
   "execution_count": null,
   "metadata": {},
   "outputs": [],
   "source": [
    "#class \n",
    "\n",
    "class car:\n",
    "    color=\"blue\"\n",
    "    model=\"G1\"\n",
    "\n",
    "s1=car()\n",
    "print(s1.color)\n",
    "print(s1.model)"
   ]
  },
  {
   "cell_type": "code",
   "execution_count": null,
   "metadata": {},
   "outputs": [],
   "source": [
    "#class and constructor\n",
    "\n",
    "class student:\n",
    "    def __init__(self):\n",
    "        print(\"student details\")\n",
    "    def display(self,a1):\n",
    "        self.a1=a1\n",
    "        print(\"hello\",a1)\n",
    "s1=student()\n",
    "s1.display(\"aditya\")\n"
   ]
  },
  {
   "cell_type": "code",
   "execution_count": null,
   "metadata": {},
   "outputs": [],
   "source": [
    "#class and constructor\n",
    "\n",
    "class student:\n",
    "    def __init__(self,name):\n",
    "        self.name=name\n",
    "        print(\"student details\",name)\n",
    "s1=student(\"aditya\")\n"
   ]
  },
  {
   "cell_type": "code",
   "execution_count": null,
   "metadata": {},
   "outputs": [],
   "source": [
    "#types of varibles\n",
    "class student:\n",
    "    university=\"GIETU\" #class variable\n",
    "    def display(self,name):\n",
    "        self.name=name #instance variable\n",
    "        print(student.university,name)\n",
    "\n",
    "s1=student()\n",
    "s1.display(\"aditya\")"
   ]
  },
  {
   "cell_type": "code",
   "execution_count": null,
   "metadata": {},
   "outputs": [],
   "source": [
    "#types of method\n",
    "\n",
    "class student:\n",
    "    def __init__(self):\n",
    "        print(\"hello\")\n",
    "\n",
    "    @classmethod\n",
    "    def adi(cls):\n",
    "        print(cls.a)\n",
    "    a=10\n",
    "    @staticmethod\n",
    "    def add(a,y):\n",
    "        return a+y\n",
    "s1=student()\n",
    "s1.adi()\n",
    "s1.add(2,3)"
   ]
  },
  {
   "cell_type": "code",
   "execution_count": null,
   "metadata": {},
   "outputs": [],
   "source": [
    "#abstraction\n",
    "\n",
    "class car:\n",
    "    def __init__(self):\n",
    "        self.acc=False\n",
    "        self.bre=False\n",
    "        print(\"Engine operation started\")\n",
    "\n",
    "    def start(self):\n",
    "        self.acc=True\n",
    "        self.bre=False\n",
    "        print(\"CAr us stared\")\n",
    "    def stop(self):\n",
    "        self.acc=False\n",
    "        self.bre=True\n",
    "        print(\"Car is stoped\")\n",
    "\n",
    "s1=car()\n",
    "s1.start()\n",
    "s1.stop()"
   ]
  },
  {
   "cell_type": "code",
   "execution_count": null,
   "metadata": {},
   "outputs": [],
   "source": [
    "#encapsulation\n",
    "class car:\n",
    "    color=\"blue\"\n",
    "    model=\"G1\"\n",
    "\n",
    "s1=car()\n",
    "print(s1.color)\n",
    "print(s1.model)"
   ]
  },
  {
   "cell_type": "code",
   "execution_count": null,
   "metadata": {},
   "outputs": [],
   "source": [
    "#Dynamic attributes in oops\n",
    "\n",
    "class car:\n",
    "    color=\"blue\"\n",
    "    model=\"G1\"\n",
    "\n",
    "s1=car()\n",
    "print(s1.color)\n",
    "print(s1.model)\n",
    "\n",
    "#set attr\n",
    "setattr(s1,\"b\",\"2\")\n",
    "#get attr\n",
    "getattr(s1,\"b\")\n",
    "#del attr\n",
    "delattr(s1,\"b\")\n",
    "#has attr\n",
    "if hasattr(s1,\"b\"):\n",
    "    print(\"yes\")\n",
    "else:\n",
    "    print(\"NO\")\n"
   ]
  },
  {
   "cell_type": "code",
   "execution_count": null,
   "metadata": {},
   "outputs": [],
   "source": [
    "#private and public attributes\n",
    "class account:\n",
    "    def __init__(self,password,account):\n",
    "        self.account=account #public\n",
    "        self.__password=password #private\n",
    "\n",
    "s1=account(\"1234\",\"aditya\")\n",
    "#print(s1.__password)   <--It showing error\n",
    "print(s1.account)"
   ]
  },
  {
   "cell_type": "code",
   "execution_count": null,
   "metadata": {},
   "outputs": [],
   "source": [
    "#single inhertice\n",
    "class Parent:\n",
    "    @staticmethod\n",
    "    def say1():\n",
    "        print(\"parent\")\n",
    "\n",
    "class child(Parent):\n",
    "    @staticmethod\n",
    "    def say2():\n",
    "        print(\"child\")\n",
    "s1=Parent()\n",
    "s2=child()\n",
    "\n",
    "s1.say1()\n",
    "s2.say1()\n",
    "s2.say2()\n",
    "\n",
    "\n",
    "print(\"\\n\\n\\n\\n\\n\\\\n\")\n",
    "#Multiple inhertice\n",
    "class Parent1:\n",
    "    @staticmethod\n",
    "    def say12():\n",
    "        print(\"parent\")\n",
    "\n",
    "class Parent2(Parent1):\n",
    "    @staticmethod\n",
    "    def say1(Parent):\n",
    "        print(\"parent\")\n",
    "\n",
    "class child2(Parent2):\n",
    "    @staticmethod\n",
    "    def say2():\n",
    "        print(\"child\")\n",
    "s1=Parent2()\n",
    "s2=child2()\n",
    "\n",
    "s1.say1(\"yo\")\n",
    "s1.say12()\n",
    "s2.say1()\n",
    "s2.say2()\n",
    "\n",
    "\n",
    "#super method\n",
    "class Parent1:\n",
    "    def __init__(self,say):\n",
    "        self.say=say\n",
    "        say=\"yo\"\n",
    "        print(\"INside the parent1\",say)\n",
    "\n",
    "    @staticmethod\n",
    "    def say12():\n",
    "        print(\"parent\")\n",
    "\n",
    "class Parent2(Parent1):\n",
    "    \n",
    "    @staticmethod\n",
    "    def say1(Parent):\n",
    "        super().__init__(say)\n",
    "        print(\"parent\")\n",
    "\n",
    "class child2(Parent2):\n",
    "    @staticmethod\n",
    "    def say2():\n",
    "        print(\"child\")\n",
    "s1=Parent2()\n",
    "s2=child2()\n",
    "\n",
    "s1.say1()\n",
    "s1.say12()\n",
    "s2.say1()\n",
    "s2.say2()\n"
   ]
  },
  {
   "cell_type": "markdown",
   "metadata": {},
   "source": [
    "POlymorphism"
   ]
  },
  {
   "cell_type": "code",
   "execution_count": null,
   "metadata": {},
   "outputs": [],
   "source": [
    "#operator overloadding\n",
    "class add1:\n",
    "    def __init__(self,m1,m2):\n",
    "        self.m1=m1\n",
    "        self.m2=m2\n",
    "    \n",
    "    def __add__(self,other):\n",
    "        m1= self.m1+other.m1\n",
    "        m2=self.m2+other.m2\n",
    "        s3=add1(m1,m2)\n",
    "        return s3\n",
    "\n",
    "s1=add1(58,69)\n",
    "s2=add1(60,67)\n",
    "\n",
    "s3=s1+s2\n",
    "print(s3.m1)\n",
    "print(s3.m2)"
   ]
  },
  {
   "cell_type": "code",
   "execution_count": null,
   "metadata": {},
   "outputs": [],
   "source": [
    "#duck typing\n",
    "class duck:\n",
    "    def quack(self):\n",
    "        print(\"Quack\")\n",
    "class human:\n",
    "    def quack(self):\n",
    "        print(\"blah! blah!\")\n",
    "def say(m):\n",
    "    m.quack()\n",
    "\n",
    "s1=duck()\n",
    "s2=human()\n",
    "\n",
    "say(s1)\n",
    "say(s2)"
   ]
  },
  {
   "cell_type": "code",
   "execution_count": 69,
   "metadata": {},
   "outputs": [
    {
     "name": "stdout",
     "output_type": "stream",
     "text": [
      "Method overloadding:\n",
      "1\n",
      "Method overloadding:\n",
      "4\n"
     ]
    }
   ],
   "source": [
    "#method overloadding\n",
    "class add1:\n",
    "    def add(self,a,b=0,c=0):\n",
    "        print(a+b+c)\n",
    "s1=add1()\n",
    "print(\"Method overloadding:\")\n",
    "s1.add(1)\n",
    "\n",
    "print(\"Method overloadding:\")\n",
    "s1.add(2,2)"
   ]
  },
  {
   "cell_type": "code",
   "execution_count": 81,
   "metadata": {},
   "outputs": [
    {
     "name": "stdout",
     "output_type": "stream",
     "text": [
      "sleep\n",
      "sleep\n",
      "not sleeping\n"
     ]
    }
   ],
   "source": [
    "#method overriding\n",
    "class father:\n",
    "    def sleep(self):\n",
    "        print(\"sleep\")\n",
    "\n",
    "    def eat(self):\n",
    "        print(\"EAt\")\n",
    "\n",
    "class son(father):\n",
    "    def sleep(self):\n",
    "        super().sleep()\n",
    "        print(\"not sleeping\")\n",
    "        \n",
    "r1=father()\n",
    "r2=son()\n",
    "r1.sleep()\n",
    "r2.sleep()"
   ]
  }
 ],
 "metadata": {
  "kernelspec": {
   "display_name": "Python 3",
   "language": "python",
   "name": "python3"
  },
  "language_info": {
   "codemirror_mode": {
    "name": "ipython",
    "version": 3
   },
   "file_extension": ".py",
   "mimetype": "text/x-python",
   "name": "python",
   "nbconvert_exporter": "python",
   "pygments_lexer": "ipython3",
   "version": "3.12.1"
  }
 },
 "nbformat": 4,
 "nbformat_minor": 2
}
